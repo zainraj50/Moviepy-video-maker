{
 "cells": [
  {
   "cell_type": "code",
   "execution_count": 1,
   "metadata": {},
   "outputs": [],
   "source": [
    "#import modules\n",
    "\n",
    "from moviepy.editor import ImageClip, concatenate\n",
    "import moviepy.video.fx.all as vfx\n",
    "\n",
    "from skimage import transform\n",
    "import numpy as np\n",
    "\n",
    "\n",
    "from natsort import natsorted\n",
    "import glob\n",
    "\n",
    "from moviepy.editor import *\n",
    "import moviepy.editor as mp\n",
    "import pandas as pd\n",
    "import numpy as np\n",
    "from sklearn.metrics import confusion_matrix\n",
    "from sklearn.naive_bayes import MultinomialNB \n",
    "from tkinter import *\n",
    "import joblib\n",
    "import os\n",
    "from tkinter import *\n",
    "from tkinter.messagebox import *\n",
    "from PIL import Image, ImageTk  #module to put ////////////////////image in tkinter\n",
    "import PIL\n",
    "import pickle\n",
    "import tkinter as tk\n",
    "from tkinter import messagebox"
   ]
  },
  {
   "cell_type": "code",
   "execution_count": 2,
   "metadata": {},
   "outputs": [],
   "source": [
    "# def zoomIn(t):\n",
    "#   return 1 + 0.1 * t\n",
    "duration = 10\n",
    "screensize=(1920,1080)\n",
    "def resize_func(t):\n",
    "    if t < 4:\n",
    "        return 1 + 0.02*(duration-t)\n",
    "        \n",
    "#     elif 4 <= t <= 6:\n",
    "#         return 1 + 0.02*4  # Stay.\n",
    "    else:\n",
    "        return 1 + 0.02*t  # Zoom-in.# 6 < t\n",
    "          # Zoom-out.\n",
    "\n",
    "def slide_show():\n",
    "    img_clip=[]\n",
    "    duration=10\n",
    "    for image in natsorted(glob.glob(E1.get()+'/**.png')): #bug here only handle png images find another way to iterate\n",
    "        #print(image)\n",
    "        x=ImageClip(image).resize(screensize).resize(resize_func).set_position(('right','left')).set_duration(duration).set_fps(25)\n",
    "        \n",
    "        img_clip.append(x)                  #1.7+0*t\n",
    "        #print(img_clip)\n",
    "        \n",
    "    video = concatenate(img_clip, method='compose').margin(40)\n",
    "    #video.resize( (460,720) ) # New resolution: (460,720)\n",
    "    #video.resize(2) # width and heigth multiplied by 0.6\n",
    "   # video.resize(width=8000) # height computed automatically.\n",
    "    # video.resize(lambda t : 1+0.02*t) # slow swelling of the clip\n",
    "   \n",
    "    return video.write_videofile('Test1.mp4'), messagebox.showinfo(\"Information\",\"Video is completed!!\")"
   ]
  },
  {
   "cell_type": "code",
   "execution_count": 3,
   "metadata": {},
   "outputs": [],
   "source": [
    "from moviepy.editor import *  \n",
    "\n",
    "def add_text_anim():\n",
    "    picture = VideoFileClip(r'C:\\Users\\user\\Downloads\\Towards Headlines\\Test1.mp4', audio=False).add_mask() #\n",
    "    durations=int(picture.duration)\n",
    "    \n",
    "    ######################## Logo #####################################\n",
    "    logo = (mp.ImageClip(r\"C:\\Users\\user\\Downloads\\Towards Headlines\\Towards Headlines-logo\\profile.png\")\n",
    "          .set_duration(picture.duration)\n",
    "          .resize(height=200) # if you need to resize...\n",
    "          .margin(right=20, top=20, opacity=0) # (optional) logo-border padding\n",
    "          .set_pos(('right', 'top')))\n",
    "    ####################### Logo ####################################\n",
    "    \n",
    "    ###################### heading Text ############################\n",
    "    heading =TextClip(E3.get(), fontsize = 75, color = 'White')\n",
    "    heading_col=heading.on_color(size=(heading.w+55,heading.h +55),color=(69, 10, 51), pos=(2,'center')) \n",
    "    heading = heading_col.set_pos((30,150)).set_duration(durations)##put ((100,200))\n",
    "    #################### heading Text ##############################\n",
    "    \n",
    " \n",
    "    textOne = E6.get()#\"First Line!\"\n",
    "    textTwo = E4.get()#\"Second Caption!!!!\"\n",
    "    textThree = E5.get()#\"Third one!!!\"\n",
    "    textFour = E7.get() #Fourth one!!!\n",
    "    textFive = E8.get() # Fifth One!!!\n",
    "    \n",
    "    w,h = moviesize = picture.size\n",
    "    \n",
    "    texts = [textOne, textTwo, textThree, textFour, textFive]\n",
    "\n",
    "    step = 10 #each 15 sec: 0, 15, 30\n",
    "    #duration = 10\n",
    "    t = 0\n",
    "    txt_clips = []\n",
    "    for text,i in zip(texts,range(0,5)):\n",
    "        #txt_clip = TextClip(text,fontsize = 40, color='white')\n",
    "        txt_clip = TextClip(text, font='Amiri-regular',color='white',fontsize=100, stroke_width=1)\n",
    "        txt_col = txt_clip.on_color(size=(txt_clip.w + 55,txt_clip.h - 10),color=( 69, 10, 51 ), pos=(2,'center'), col_opacity=0.6) #color=( 43, 134, 230 )\n",
    "        txt_col = txt_col.set_start(t)    \n",
    "        #txt_clip = txt_clip.set_pos('center').set_duration(duration)\n",
    "        txt_mov = txt_col.set_pos( lambda t: (max(w/30,int(-0.2*w*t)),# w*t*10 ye text slide jaldi move karwata hai, #for ticker remove -0.2\n",
    "                                              max(h*3/10,int(10*t)))).set_duration(step) #5*h/6 default , \n",
    "                                                                                             #for fixed ticker text used h*3/7,(-1*w*t) above\n",
    "       \n",
    "        txt_clips.append(txt_mov)\n",
    "        t += step\n",
    "\n",
    "    \n",
    "    audio = AudioFileClip(r'C:\\Users\\user\\Downloads\\Towards Headlines\\Alex-Production.mp3').subclip(0,60)\n",
    "    \n",
    "    video_with_new_audio = picture.set_audio(audio)\n",
    "    \n",
    "    final_video = CompositeVideoClip([video_with_new_audio,logo,heading,txt_clips[0],txt_clips[1],txt_clips[2],txt_clips[3],txt_clips[4]]) ##txt_clip[3] added\n",
    "    return final_video.write_videofile(\"TEXT2.mp4\"), messagebox.showinfo(\"Information\",\"Sound & Text Added.!!\")"
   ]
  },
  {
   "cell_type": "code",
   "execution_count": null,
   "metadata": {},
   "outputs": [],
   "source": []
  },
  {
   "cell_type": "code",
   "execution_count": null,
   "metadata": {},
   "outputs": [],
   "source": []
  },
  {
   "cell_type": "code",
   "execution_count": null,
   "metadata": {},
   "outputs": [],
   "source": []
  },
  {
   "cell_type": "code",
   "execution_count": 4,
   "metadata": {},
   "outputs": [],
   "source": [
    "import mimetypes\n",
    "mimetypes.init()\n",
    "\n",
    "def isMediaFile(fileName):\n",
    "    mimestart = mimetypes.guess_type(fileName)[0]\n",
    "\n",
    "    if mimestart != None:\n",
    "        mimestart = mimestart.split('/')[0]\n",
    "\n",
    "        if mimestart in ['audio', 'video', 'image']:\n",
    "            return True\n",
    "    \n",
    "    return False\n"
   ]
  },
  {
   "cell_type": "code",
   "execution_count": 5,
   "metadata": {},
   "outputs": [
    {
     "ename": "ModuleNotFoundError",
     "evalue": "No module named 'ismediafile'",
     "output_type": "error",
     "traceback": [
      "\u001b[1;31m---------------------------------------------------------------------------\u001b[0m",
      "\u001b[1;31mModuleNotFoundError\u001b[0m                       Traceback (most recent call last)",
      "\u001b[1;32m<ipython-input-5-b6143a202f77>\u001b[0m in \u001b[0;36m<module>\u001b[1;34m\u001b[0m\n\u001b[1;32m----> 1\u001b[1;33m \u001b[1;32mfrom\u001b[0m \u001b[0mismediafile\u001b[0m \u001b[1;32mimport\u001b[0m \u001b[0misMediaFile\u001b[0m\u001b[1;33m\u001b[0m\u001b[1;33m\u001b[0m\u001b[0m\n\u001b[0m\u001b[0;32m      2\u001b[0m \u001b[1;33m\u001b[0m\u001b[0m\n\u001b[0;32m      3\u001b[0m \u001b[1;32mif\u001b[0m \u001b[0m__name__\u001b[0m \u001b[1;33m==\u001b[0m \u001b[1;34m\"__main__\"\u001b[0m\u001b[1;33m:\u001b[0m\u001b[1;33m\u001b[0m\u001b[1;33m\u001b[0m\u001b[0m\n\u001b[0;32m      4\u001b[0m     \u001b[1;32mif\u001b[0m \u001b[0misMediaFile\u001b[0m\u001b[1;33m(\u001b[0m\u001b[1;34m\"test.mp3\"\u001b[0m\u001b[1;33m)\u001b[0m\u001b[1;33m:\u001b[0m\u001b[1;33m\u001b[0m\u001b[1;33m\u001b[0m\u001b[0m\n\u001b[0;32m      5\u001b[0m         \u001b[0mprint\u001b[0m\u001b[1;33m(\u001b[0m\u001b[1;34m\"Media file\"\u001b[0m\u001b[1;33m)\u001b[0m\u001b[1;33m\u001b[0m\u001b[1;33m\u001b[0m\u001b[0m\n",
      "\u001b[1;31mModuleNotFoundError\u001b[0m: No module named 'ismediafile'"
     ]
    }
   ],
   "source": [
    "from ismediafile import isMediaFile\n",
    "\n",
    "if __name__ == \"__main__\":\n",
    "    if isMediaFile(\"test.mp3\"):\n",
    "        print(\"Media file\")\n",
    "    else:\n",
    "        print(\"not media file\")"
   ]
  },
  {
   "cell_type": "code",
   "execution_count": null,
   "metadata": {},
   "outputs": [],
   "source": []
  }
 ],
 "metadata": {
  "kernelspec": {
   "display_name": "Python 3",
   "language": "python",
   "name": "python3"
  },
  "language_info": {
   "codemirror_mode": {
    "name": "ipython",
    "version": 3
   },
   "file_extension": ".py",
   "mimetype": "text/x-python",
   "name": "python",
   "nbconvert_exporter": "python",
   "pygments_lexer": "ipython3",
   "version": "3.7.3"
  }
 },
 "nbformat": 4,
 "nbformat_minor": 2
}
